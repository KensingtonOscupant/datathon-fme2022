{
 "cells": [
  {
   "cell_type": "code",
   "execution_count": 2,
   "metadata": {},
   "outputs": [],
   "source": [
    "import pandas as pd\n",
    "\n",
    "import matplotlib.pyplot as plt\n",
    "import seaborn as sns\n",
    "\n",
    "sns.set_theme(context='paper', font_scale=1.15)\n",
    "\n",
    "data_dir = '../data/datathon_SC_ACN_22/'"
   ]
  },
  {
   "cell_type": "markdown",
   "metadata": {},
   "source": [
    "### Data overview"
   ]
  },
  {
   "cell_type": "code",
   "execution_count": 3,
   "metadata": {},
   "outputs": [
    {
     "data": {
      "text/html": [
       "<div>\n",
       "<style scoped>\n",
       "    .dataframe tbody tr th:only-of-type {\n",
       "        vertical-align: middle;\n",
       "    }\n",
       "\n",
       "    .dataframe tbody tr th {\n",
       "        vertical-align: top;\n",
       "    }\n",
       "\n",
       "    .dataframe thead th {\n",
       "        text-align: right;\n",
       "    }\n",
       "</style>\n",
       "<table border=\"1\" class=\"dataframe\">\n",
       "  <thead>\n",
       "    <tr style=\"text-align: right;\">\n",
       "      <th></th>\n",
       "      <th>origin_port</th>\n",
       "      <th>3pl</th>\n",
       "      <th>customs_procedures</th>\n",
       "      <th>logistic_hub</th>\n",
       "      <th>customer</th>\n",
       "      <th>product_id</th>\n",
       "      <th>units</th>\n",
       "      <th>late_order</th>\n",
       "    </tr>\n",
       "    <tr>\n",
       "      <th>order_id</th>\n",
       "      <th></th>\n",
       "      <th></th>\n",
       "      <th></th>\n",
       "      <th></th>\n",
       "      <th></th>\n",
       "      <th></th>\n",
       "      <th></th>\n",
       "      <th></th>\n",
       "    </tr>\n",
       "  </thead>\n",
       "  <tbody>\n",
       "    <tr>\n",
       "      <th>a3ac8de6ae23</th>\n",
       "      <td>Rotterdam</td>\n",
       "      <td>v_003</td>\n",
       "      <td>CRF</td>\n",
       "      <td>Warsaw</td>\n",
       "      <td>Malmö</td>\n",
       "      <td>1689788</td>\n",
       "      <td>492</td>\n",
       "      <td>True</td>\n",
       "    </tr>\n",
       "    <tr>\n",
       "      <th>0372b2528798</th>\n",
       "      <td>Athens</td>\n",
       "      <td>v_002</td>\n",
       "      <td>CRF</td>\n",
       "      <td>Venlo</td>\n",
       "      <td>Marseille</td>\n",
       "      <td>1681890</td>\n",
       "      <td>479</td>\n",
       "      <td>False</td>\n",
       "    </tr>\n",
       "    <tr>\n",
       "      <th>75efcf2c730e</th>\n",
       "      <td>Rotterdam</td>\n",
       "      <td>v_001</td>\n",
       "      <td>DTD</td>\n",
       "      <td>Hamburg</td>\n",
       "      <td>Cologne</td>\n",
       "      <td>1666317</td>\n",
       "      <td>647</td>\n",
       "      <td>True</td>\n",
       "    </tr>\n",
       "    <tr>\n",
       "      <th>e30a2d0101a6</th>\n",
       "      <td>Rotterdam</td>\n",
       "      <td>v_004</td>\n",
       "      <td>CRF</td>\n",
       "      <td>Venlo</td>\n",
       "      <td>Valencia</td>\n",
       "      <td>1700869</td>\n",
       "      <td>425</td>\n",
       "      <td>False</td>\n",
       "    </tr>\n",
       "    <tr>\n",
       "      <th>037246d6acd3</th>\n",
       "      <td>Rotterdam</td>\n",
       "      <td>v_003</td>\n",
       "      <td>CRF</td>\n",
       "      <td>Warsaw</td>\n",
       "      <td>Vienna</td>\n",
       "      <td>1692949</td>\n",
       "      <td>394</td>\n",
       "      <td>False</td>\n",
       "    </tr>\n",
       "  </tbody>\n",
       "</table>\n",
       "</div>"
      ],
      "text/plain": [
       "             origin_port    3pl customs_procedures logistic_hub   customer  \\\n",
       "order_id                                                                     \n",
       "a3ac8de6ae23   Rotterdam  v_003                CRF       Warsaw      Malmö   \n",
       "0372b2528798      Athens  v_002                CRF        Venlo  Marseille   \n",
       "75efcf2c730e   Rotterdam  v_001                DTD      Hamburg    Cologne   \n",
       "e30a2d0101a6   Rotterdam  v_004                CRF        Venlo   Valencia   \n",
       "037246d6acd3   Rotterdam  v_003                CRF       Warsaw     Vienna   \n",
       "\n",
       "              product_id  units  late_order  \n",
       "order_id                                     \n",
       "a3ac8de6ae23     1689788    492        True  \n",
       "0372b2528798     1681890    479       False  \n",
       "75efcf2c730e     1666317    647        True  \n",
       "e30a2d0101a6     1700869    425       False  \n",
       "037246d6acd3     1692949    394       False  "
      ]
     },
     "execution_count": 3,
     "metadata": {},
     "output_type": "execute_result"
    }
   ],
   "source": [
    "orders_data = pd.read_csv(data_dir + 'orders.csv', delimiter=';', index_col='order_id')\n",
    "orders_data.sample(n=5)"
   ]
  },
  {
   "cell_type": "markdown",
   "metadata": {},
   "source": [
    "#### Adding shipment distance"
   ]
  },
  {
   "cell_type": "code",
   "execution_count": 4,
   "metadata": {},
   "outputs": [],
   "source": [
    "cities_data = pd.read_csv(data_dir + 'cities_data.csv', delimiter=';', index_col=['city_from_name', 'city_to_name'])"
   ]
  },
  {
   "cell_type": "code",
   "execution_count": 5,
   "metadata": {},
   "outputs": [],
   "source": [
    "orders_data = orders_data.join(cities_data['distance'].rename('port_to_hub'), on=['origin_port', 'logistic_hub'])\n",
    "orders_data = orders_data.join(cities_data['distance'].rename('hub_to_customer'), on=['logistic_hub', 'customer'])\n",
    "orders_data['total_shipping_distance'] = orders_data['port_to_hub'] + orders_data['hub_to_customer']"
   ]
  },
  {
   "cell_type": "markdown",
   "metadata": {},
   "source": [
    "#### Adding material handling and weight"
   ]
  },
  {
   "cell_type": "code",
   "execution_count": 6,
   "metadata": {},
   "outputs": [],
   "source": [
    "product_data = pd.read_csv(data_dir + 'product_attributes.csv', delimiter=',', index_col='product_id')\n",
    "orders_data = orders_data.join(product_data, on='product_id')"
   ]
  },
  {
   "cell_type": "markdown",
   "metadata": {},
   "source": [
    "#### Adding countries"
   ]
  },
  {
   "cell_type": "code",
   "execution_count": 7,
   "metadata": {},
   "outputs": [],
   "source": [
    "cities = pd.read_csv('../data/external/world-cities.csv', index_col='name')['country']\n",
    "orders_data = orders_data.join(cities.rename('origin_country'), on='origin_port')\n",
    "orders_data = orders_data.join(cities.rename('hub_country'), on='logistic_hub')\n",
    "orders_data = orders_data.join(cities.rename('customer_country'), on='customer')"
   ]
  },
  {
   "cell_type": "code",
   "execution_count": 10,
   "metadata": {},
   "outputs": [],
   "source": [
    "orders_data['no_diff_countries'] = orders_data[['origin_country', 'hub_country', 'customer_country']].apply(axis='columns', func=lambda x: len(set(x)))"
   ]
  },
  {
   "cell_type": "markdown",
   "metadata": {},
   "source": [
    "### Testing for basic correlation"
   ]
  },
  {
   "cell_type": "code",
   "execution_count": 11,
   "metadata": {},
   "outputs": [
    {
     "data": {
      "text/plain": [
       "late_order                    1.000000\n",
       "origin_port_Athens            0.182718\n",
       "units                         0.162393\n",
       "total_shipping_distance       0.108047\n",
       "logistic_hub_Lille            0.096930\n",
       "                                ...   \n",
       "hub_country_Netherlands      -0.057122\n",
       "customs_procedures_CRF       -0.083705\n",
       "3pl_v_002                    -0.089864\n",
       "origin_country_Netherlands   -0.103892\n",
       "origin_port_Rotterdam        -0.182620\n",
       "Name: late_order, Length: 91, dtype: float64"
      ]
     },
     "execution_count": 11,
     "metadata": {},
     "output_type": "execute_result"
    }
   ],
   "source": [
    "correlations = pd.get_dummies(orders_data).corr()['late_order']\n",
    "correlations.sort_values(ascending=False)"
   ]
  }
 ],
 "metadata": {
  "kernelspec": {
   "display_name": "Python 3.9.12 ('base')",
   "language": "python",
   "name": "python3"
  },
  "language_info": {
   "codemirror_mode": {
    "name": "ipython",
    "version": 3
   },
   "file_extension": ".py",
   "mimetype": "text/x-python",
   "name": "python",
   "nbconvert_exporter": "python",
   "pygments_lexer": "ipython3",
   "version": "3.9.12"
  },
  "orig_nbformat": 4,
  "vscode": {
   "interpreter": {
    "hash": "0fa6cfb93ce99a4f165813a0cc5205bdc0f8f03788504bd156facda711b3fbce"
   }
  }
 },
 "nbformat": 4,
 "nbformat_minor": 2
}
