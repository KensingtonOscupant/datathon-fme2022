{
 "cells": [
  {
   "cell_type": "code",
   "execution_count": 3,
   "metadata": {},
   "outputs": [],
   "source": [
    "import pandas as pd\n",
    "\n",
    "import matplotlib.pyplot as plt\n",
    "import seaborn as sns\n",
    "\n",
    "sns.set_theme(context='paper', font_scale=1.15)\n",
    "\n",
    "data_dir = '../data/datathon_SC_ACN_22/'"
   ]
  },
  {
   "cell_type": "markdown",
   "metadata": {},
   "source": [
    "### Data overview"
   ]
  },
  {
   "cell_type": "code",
   "execution_count": 4,
   "metadata": {},
   "outputs": [
    {
     "data": {
      "text/html": [
       "<div>\n",
       "<style scoped>\n",
       "    .dataframe tbody tr th:only-of-type {\n",
       "        vertical-align: middle;\n",
       "    }\n",
       "\n",
       "    .dataframe tbody tr th {\n",
       "        vertical-align: top;\n",
       "    }\n",
       "\n",
       "    .dataframe thead th {\n",
       "        text-align: right;\n",
       "    }\n",
       "</style>\n",
       "<table border=\"1\" class=\"dataframe\">\n",
       "  <thead>\n",
       "    <tr style=\"text-align: right;\">\n",
       "      <th></th>\n",
       "      <th>origin_port</th>\n",
       "      <th>3pl</th>\n",
       "      <th>customs_procedures</th>\n",
       "      <th>logistic_hub</th>\n",
       "      <th>customer</th>\n",
       "      <th>product_id</th>\n",
       "      <th>units</th>\n",
       "      <th>late_order</th>\n",
       "    </tr>\n",
       "    <tr>\n",
       "      <th>order_id</th>\n",
       "      <th></th>\n",
       "      <th></th>\n",
       "      <th></th>\n",
       "      <th></th>\n",
       "      <th></th>\n",
       "      <th></th>\n",
       "      <th></th>\n",
       "      <th></th>\n",
       "    </tr>\n",
       "  </thead>\n",
       "  <tbody>\n",
       "    <tr>\n",
       "      <th>04484f39ca53</th>\n",
       "      <td>Athens</td>\n",
       "      <td>v_004</td>\n",
       "      <td>DTP</td>\n",
       "      <td>Venlo</td>\n",
       "      <td>Athens</td>\n",
       "      <td>1654623</td>\n",
       "      <td>472</td>\n",
       "      <td>False</td>\n",
       "    </tr>\n",
       "    <tr>\n",
       "      <th>e2422b8c8d6a</th>\n",
       "      <td>Rotterdam</td>\n",
       "      <td>v_002</td>\n",
       "      <td>CRF</td>\n",
       "      <td>Lille</td>\n",
       "      <td>Vienna</td>\n",
       "      <td>1644308</td>\n",
       "      <td>461</td>\n",
       "      <td>False</td>\n",
       "    </tr>\n",
       "    <tr>\n",
       "      <th>414502b5343e</th>\n",
       "      <td>Rotterdam</td>\n",
       "      <td>v_004</td>\n",
       "      <td>DTD</td>\n",
       "      <td>Warsaw</td>\n",
       "      <td>Turin</td>\n",
       "      <td>1657063</td>\n",
       "      <td>416</td>\n",
       "      <td>False</td>\n",
       "    </tr>\n",
       "    <tr>\n",
       "      <th>36cd0b850947</th>\n",
       "      <td>Rotterdam</td>\n",
       "      <td>v_004</td>\n",
       "      <td>DTD</td>\n",
       "      <td>Warsaw</td>\n",
       "      <td>Paris</td>\n",
       "      <td>1683409</td>\n",
       "      <td>476</td>\n",
       "      <td>False</td>\n",
       "    </tr>\n",
       "    <tr>\n",
       "      <th>9f78d5cef96d</th>\n",
       "      <td>BCN</td>\n",
       "      <td>v_002</td>\n",
       "      <td>DTD</td>\n",
       "      <td>Hamburg</td>\n",
       "      <td>Rome</td>\n",
       "      <td>1668608</td>\n",
       "      <td>470</td>\n",
       "      <td>False</td>\n",
       "    </tr>\n",
       "  </tbody>\n",
       "</table>\n",
       "</div>"
      ],
      "text/plain": [
       "             origin_port    3pl customs_procedures logistic_hub customer  \\\n",
       "order_id                                                                   \n",
       "04484f39ca53      Athens  v_004                DTP        Venlo   Athens   \n",
       "e2422b8c8d6a   Rotterdam  v_002                CRF        Lille   Vienna   \n",
       "414502b5343e   Rotterdam  v_004                DTD       Warsaw    Turin   \n",
       "36cd0b850947   Rotterdam  v_004                DTD       Warsaw    Paris   \n",
       "9f78d5cef96d         BCN  v_002                DTD      Hamburg     Rome   \n",
       "\n",
       "              product_id  units  late_order  \n",
       "order_id                                     \n",
       "04484f39ca53     1654623    472       False  \n",
       "e2422b8c8d6a     1644308    461       False  \n",
       "414502b5343e     1657063    416       False  \n",
       "36cd0b850947     1683409    476       False  \n",
       "9f78d5cef96d     1668608    470       False  "
      ]
     },
     "execution_count": 4,
     "metadata": {},
     "output_type": "execute_result"
    }
   ],
   "source": [
    "orders_data = pd.read_csv(data_dir + 'orders.csv', delimiter=';', index_col='order_id')\n",
    "orders_data.sample(n=5)"
   ]
  },
  {
   "cell_type": "markdown",
   "metadata": {},
   "source": [
    "#### Adding shipment distance"
   ]
  },
  {
   "cell_type": "code",
   "execution_count": 15,
   "metadata": {},
   "outputs": [],
   "source": [
    "cities_data = pd.read_csv(data_dir + 'cities_data.csv', delimiter=';', index_col=['city_from_name', 'city_to_name'])"
   ]
  },
  {
   "cell_type": "code",
   "execution_count": 23,
   "metadata": {},
   "outputs": [],
   "source": [
    "orders_data = orders_data.join(cities_data['distance'].rename('port_to_hub'), on=['origin_port', 'logistic_hub'])\n",
    "orders_data = orders_data.join(cities_data['distance'].rename('hub_to_customer'), on=['logistic_hub', 'customer'])\n",
    "orders_data['total_shipping_distance'] = orders_data['port_to_hub'] + orders_data['hub_to_customer']"
   ]
  },
  {
   "cell_type": "markdown",
   "metadata": {},
   "source": [
    "#### Adding material handling and weight"
   ]
  },
  {
   "cell_type": "code",
   "execution_count": 27,
   "metadata": {},
   "outputs": [],
   "source": [
    "product_data = pd.read_csv(data_dir + 'product_attributes.csv', delimiter=',', index_col='product_id')\n",
    "orders_data = orders_data.join(product_data, on='product_id')"
   ]
  },
  {
   "cell_type": "markdown",
   "metadata": {},
   "source": [
    "### Testing for basic correlation"
   ]
  },
  {
   "cell_type": "code",
   "execution_count": 25,
   "metadata": {},
   "outputs": [
    {
     "data": {
      "text/plain": [
       "late_order                 1.000000\n",
       "origin_port_Athens         0.172028\n",
       "units                      0.167888\n",
       "total_shipping_distance    0.120177\n",
       "port_to_hub                0.099854\n",
       "3pl_v_001                  0.092977\n",
       "logistic_hub_Lille         0.089925\n",
       "hub_to_customer            0.081983\n",
       "customs_procedures_DTP     0.078287\n",
       "logistic_hub_Zaragoza      0.071704\n",
       "logistic_hub_Bratislava    0.044310\n",
       "customer_Lyon              0.043225\n",
       "origin_port_ATHENAS        0.043181\n",
       "customer_Paris             0.040451\n",
       "customer_Marseille         0.039465\n",
       "3pl_v_004                  0.036191\n",
       "origin_port_Barcelona      0.033180\n",
       "customer_Lisbon            0.028801\n",
       "customs_procedures_DTD     0.025520\n",
       "customer_Helsinki          0.023470\n",
       "customer_Bordeaux          0.023087\n",
       "customer_Stockholm         0.022413\n",
       "customer_Porto             0.018588\n",
       "logistic_hub_Rome          0.016363\n",
       "customer_Copenhagen        0.014449\n",
       "origin_port_BCN            0.013806\n",
       "customer_Athens            0.010951\n",
       "3pl_v_003                  0.007534\n",
       "customer_Malmö             0.007241\n",
       "customer_Madrid            0.002142\n",
       "customer_Valencia          0.000130\n",
       "customer_Bucharest        -0.004088\n",
       "product_id                -0.004794\n",
       "customer_Rome             -0.005380\n",
       "customer_Barcelona        -0.005487\n",
       "logistic_hub_Liege        -0.007693\n",
       "customer_Naples           -0.008133\n",
       "customer_Prague           -0.008168\n",
       "logistic_hub_Warsaw       -0.009490\n",
       "customer_Budapest         -0.010570\n",
       "customer_Turin            -0.013224\n",
       "customer_Hanover          -0.016675\n",
       "customer_Bremen           -0.017271\n",
       "customer_Vienna           -0.020848\n",
       "customer_Amsterdam        -0.022001\n",
       "customer_Cologne          -0.024077\n",
       "customer_Milan            -0.024151\n",
       "customer_Munich           -0.024152\n",
       "customer_Berlin           -0.030103\n",
       "logistic_hub_Hamburg      -0.040226\n",
       "logistic_hub_Dusseldorf   -0.044350\n",
       "logistic_hub_Venlo        -0.060392\n",
       "customs_procedures_CRF    -0.083873\n",
       "3pl_v_002                 -0.086329\n",
       "origin_port_Rotterdam     -0.185266\n",
       "Name: late_order, dtype: float64"
      ]
     },
     "execution_count": 25,
     "metadata": {},
     "output_type": "execute_result"
    }
   ],
   "source": [
    "correlations = pd.get_dummies(orders_data).corr()['late_order']\n",
    "correlations.sort_values(ascending=False)"
   ]
  }
 ],
 "metadata": {
  "kernelspec": {
   "display_name": "Python 3.9.12 ('base')",
   "language": "python",
   "name": "python3"
  },
  "language_info": {
   "codemirror_mode": {
    "name": "ipython",
    "version": 3
   },
   "file_extension": ".py",
   "mimetype": "text/x-python",
   "name": "python",
   "nbconvert_exporter": "python",
   "pygments_lexer": "ipython3",
   "version": "3.9.12"
  },
  "orig_nbformat": 4,
  "vscode": {
   "interpreter": {
    "hash": "0fa6cfb93ce99a4f165813a0cc5205bdc0f8f03788504bd156facda711b3fbce"
   }
  }
 },
 "nbformat": 4,
 "nbformat_minor": 2
}
