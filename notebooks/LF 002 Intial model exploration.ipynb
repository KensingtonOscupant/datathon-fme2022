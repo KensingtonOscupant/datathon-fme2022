{
 "cells": [
  {
   "cell_type": "code",
   "execution_count": 2,
   "metadata": {},
   "outputs": [],
   "source": [
    "import os\n",
    "import pandas as pd\n",
    "import numpy as np\n",
    "from haversine import haversine, Unit\n",
    "import xgboost\n",
    "import pickle as pk\n",
    "from sklearn import preprocessing\n",
    "from sklearn import pipeline\n",
    "from sklearn import model_selection\n",
    "from sklearn import linear_model\n",
    "from sklearn import tree\n",
    "from sklearn import svm\n",
    "from sklearn import naive_bayes\n",
    "from sklearn import neighbors\n",
    "from sklearn import neural_network\n",
    "from sklearn import ensemble\n",
    "from sklearn import metrics\n",
    "\n",
    "from data import feature_engineering\n",
    "\n",
    "import matplotlib.pyplot as plt\n",
    "import seaborn as sns\n",
    "\n",
    "sns.set_theme(context='paper', font_scale=1.15)\n",
    "\n",
    "data_dir = '../data/datathon_SC_ACN_22/'"
   ]
  },
  {
   "cell_type": "markdown",
   "metadata": {},
   "source": [
    "### Data overview"
   ]
  },
  {
   "cell_type": "code",
   "execution_count": 3,
   "metadata": {},
   "outputs": [],
   "source": [
    "orders_data = pd.read_csv(data_dir + 'orders.csv', delimiter=';', index_col='order_id')\n",
    "cities_data = pd.read_csv(data_dir + 'cities_data.csv', delimiter=';')\n",
    "product_data = pd.read_csv(data_dir + 'product_attributes.csv', delimiter=',', index_col='product_id')"
   ]
  },
  {
   "cell_type": "code",
   "execution_count": 4,
   "metadata": {},
   "outputs": [],
   "source": [
    "orders_features, orders_targets = feature_engineering.engineer_features(orders_data, cities_data, product_data, training_data=True)"
   ]
  },
  {
   "cell_type": "code",
   "execution_count": 5,
   "metadata": {},
   "outputs": [
    {
     "data": {
      "text/plain": [
       "Index(['units', 'start_lat', 'start_long', 'hub_lat', 'hub_long', 'end_lat',\n",
       "       'end_long', 'distance_on_water', 'distance_on_land',\n",
       "       'distance_on_land_log', 'distance_on_land_squared', 'units_log',\n",
       "       'units_squared', 'weight', 'weight_log', 'weight_squared',\n",
       "       'weight_deviation', 'missing_product_info', '3pl_v_001', '3pl_v_002',\n",
       "       '3pl_v_003', '3pl_v_004', 'customs_procedures_CRF',\n",
       "       'customs_procedures_DTD', 'customs_procedures_DTP',\n",
       "       'material_handling_c0.0', 'material_handling_c1.0',\n",
       "       'material_handling_c2.0', 'material_handling_c3.0',\n",
       "       'material_handling_c4.0', 'material_handling_c5.0',\n",
       "       'material_handling_cnan'],\n",
       "      dtype='object')"
      ]
     },
     "execution_count": 5,
     "metadata": {},
     "output_type": "execute_result"
    }
   ],
   "source": [
    "orders_features.columns"
   ]
  },
  {
   "cell_type": "markdown",
   "metadata": {},
   "source": [
    "##### Training - test split"
   ]
  },
  {
   "cell_type": "code",
   "execution_count": 6,
   "metadata": {},
   "outputs": [],
   "source": [
    "X_train, X_test, y_train, y_test = model_selection.train_test_split(orders_features, orders_targets, test_size=0.2, random_state=0)"
   ]
  },
  {
   "cell_type": "markdown",
   "metadata": {},
   "source": [
    "### Model"
   ]
  },
  {
   "cell_type": "code",
   "execution_count": 7,
   "metadata": {},
   "outputs": [
    {
     "name": "stderr",
     "output_type": "stream",
     "text": [
      "/Users/gisbertgurke/opt/anaconda3/envs/datathon-fme2/lib/python3.10/site-packages/xgboost/sklearn.py:1421: UserWarning: `use_label_encoder` is deprecated in 1.7.0.\n",
      "  warnings.warn(\"`use_label_encoder` is deprecated in 1.7.0.\")\n"
     ]
    }
   ],
   "source": [
    "model_ada = ensemble.AdaBoostClassifier(\n",
    "    n_estimators=100,\n",
    "    learning_rate=1.5\n",
    ")\n",
    "\n",
    "model_rf = ensemble.RandomForestClassifier(\n",
    "    max_depth=20\n",
    ")\n",
    "\n",
    "model_xgb = xgboost.XGBClassifier(\n",
    "    scale_pos_weight=0.4,\n",
    "    n_estimators=300,\n",
    "    max_depth=5,\n",
    "    learning_rate=0.15,\n",
    "    subsample=1.0,\n",
    "    colsample_bytree=0.8,\n",
    "    eval_metric='logloss',\n",
    "    use_label_encoder=False\n",
    ")\n",
    "\n",
    "model_nnb = neighbors.KNeighborsClassifier()\n",
    "\n",
    "model_nn = neural_network.MLPClassifier(\n",
    "    hidden_layer_sizes=(10,30,10),\n",
    "    learning_rate='adaptive',\n",
    "    max_iter=1000\n",
    ")"
   ]
  },
  {
   "cell_type": "code",
   "execution_count": 8,
   "metadata": {},
   "outputs": [
    {
     "name": "stderr",
     "output_type": "stream",
     "text": [
      "/Users/gisbertgurke/opt/anaconda3/envs/datathon-fme2/lib/python3.10/site-packages/xgboost/sklearn.py:1421: UserWarning: `use_label_encoder` is deprecated in 1.7.0.\n",
      "  warnings.warn(\"`use_label_encoder` is deprecated in 1.7.0.\")\n"
     ]
    },
    {
     "data": {
      "text/plain": [
       "0.8219723486174308"
      ]
     },
     "execution_count": 8,
     "metadata": {},
     "output_type": "execute_result"
    }
   ],
   "source": [
    "voting_classifier = ensemble.VotingClassifier(estimators=[\n",
    "    ('ada', model_ada),\n",
    "    ('rf', model_rf),\n",
    "    ('xgb', model_xgb),\n",
    "    ('nnb', model_nnb),\n",
    "    ('nn', model_nn)], voting='soft')\n",
    "\n",
    "pipe = pipeline.make_pipeline(preprocessing.StandardScaler(), voting_classifier)\n",
    "pipe.fit(X_train, y_train)\n",
    "\n",
    "pipe.score(X_test, y_test)"
   ]
  },
  {
   "cell_type": "code",
   "execution_count": 9,
   "metadata": {},
   "outputs": [
    {
     "data": {
      "text/plain": [
       "array([[0.64504879, 0.35495122],\n",
       "       [0.54528596, 0.45471405],\n",
       "       [0.62617972, 0.37382027],\n",
       "       ...,\n",
       "       [0.8166488 , 0.1833512 ],\n",
       "       [0.81582433, 0.18417567],\n",
       "       [0.77662811, 0.2233719 ]])"
      ]
     },
     "execution_count": 9,
     "metadata": {},
     "output_type": "execute_result"
    }
   ],
   "source": [
    "pipe.predict_proba(X_test)"
   ]
  },
  {
   "cell_type": "code",
   "execution_count": 10,
   "metadata": {},
   "outputs": [
    {
     "data": {
      "text/plain": [
       "(16993, 1794, 3568, 501)"
      ]
     },
     "execution_count": 10,
     "metadata": {},
     "output_type": "execute_result"
    }
   ],
   "source": [
    "tn, fp, fn, tp = metrics.confusion_matrix(y_test, pipe.predict(X_test)).ravel()\n",
    "tn, tp, fn, fp"
   ]
  },
  {
   "cell_type": "markdown",
   "metadata": {},
   "source": [
    "#### Save model"
   ]
  },
  {
   "cell_type": "code",
   "execution_count": 13,
   "metadata": {},
   "outputs": [
    {
     "ename": "FileNotFoundError",
     "evalue": "[Errno 2] No such file or directory: '../models/ensemble_classifier_v001.pkl'",
     "output_type": "error",
     "traceback": [
      "\u001b[0;31m---------------------------------------------------------------------------\u001b[0m",
      "\u001b[0;31mFileNotFoundError\u001b[0m                         Traceback (most recent call last)",
      "Cell \u001b[0;32mIn [13], line 4\u001b[0m\n\u001b[1;32m      1\u001b[0m \u001b[39mif\u001b[39;00m \u001b[39mnot\u001b[39;00m os\u001b[39m.\u001b[39mpath\u001b[39m.\u001b[39mexists(\u001b[39m'\u001b[39m\u001b[39mmodels\u001b[39m\u001b[39m'\u001b[39m):\n\u001b[1;32m      2\u001b[0m     os\u001b[39m.\u001b[39mmkdir(\u001b[39m'\u001b[39m\u001b[39m../models\u001b[39m\u001b[39m'\u001b[39m)\n\u001b[0;32m----> 4\u001b[0m \u001b[39mwith\u001b[39;00m \u001b[39mopen\u001b[39;49m(\u001b[39m'\u001b[39;49m\u001b[39m../models/ensemble_classifier_v001.pkl\u001b[39;49m\u001b[39m'\u001b[39;49m, \u001b[39m'\u001b[39;49m\u001b[39mwb\u001b[39;49m\u001b[39m'\u001b[39;49m) \u001b[39mas\u001b[39;00m f:\n\u001b[1;32m      5\u001b[0m     pk\u001b[39m.\u001b[39mdump(pipe, f)\n",
      "File \u001b[0;32m~/opt/anaconda3/envs/datathon-fme2/lib/python3.10/site-packages/IPython/core/interactiveshell.py:282\u001b[0m, in \u001b[0;36m_modified_open\u001b[0;34m(file, *args, **kwargs)\u001b[0m\n\u001b[1;32m    275\u001b[0m \u001b[39mif\u001b[39;00m file \u001b[39min\u001b[39;00m {\u001b[39m0\u001b[39m, \u001b[39m1\u001b[39m, \u001b[39m2\u001b[39m}:\n\u001b[1;32m    276\u001b[0m     \u001b[39mraise\u001b[39;00m \u001b[39mValueError\u001b[39;00m(\n\u001b[1;32m    277\u001b[0m         \u001b[39mf\u001b[39m\u001b[39m\"\u001b[39m\u001b[39mIPython won\u001b[39m\u001b[39m'\u001b[39m\u001b[39mt let you open fd=\u001b[39m\u001b[39m{\u001b[39;00mfile\u001b[39m}\u001b[39;00m\u001b[39m by default \u001b[39m\u001b[39m\"\u001b[39m\n\u001b[1;32m    278\u001b[0m         \u001b[39m\"\u001b[39m\u001b[39mas it is likely to crash IPython. If you know what you are doing, \u001b[39m\u001b[39m\"\u001b[39m\n\u001b[1;32m    279\u001b[0m         \u001b[39m\"\u001b[39m\u001b[39myou can use builtins\u001b[39m\u001b[39m'\u001b[39m\u001b[39m open.\u001b[39m\u001b[39m\"\u001b[39m\n\u001b[1;32m    280\u001b[0m     )\n\u001b[0;32m--> 282\u001b[0m \u001b[39mreturn\u001b[39;00m io_open(file, \u001b[39m*\u001b[39;49margs, \u001b[39m*\u001b[39;49m\u001b[39m*\u001b[39;49mkwargs)\n",
      "\u001b[0;31mFileNotFoundError\u001b[0m: [Errno 2] No such file or directory: '../models/ensemble_classifier_v001.pkl'"
     ]
    }
   ],
   "source": [
    "if not os.path.exists('../models'):\n",
    "    os.mkdir('../models')\n",
    "\n",
    "with open('../models/ensemble_classifier_v001.pkl', 'wb') as f:\n",
    "    pk.dump(pipe, f)"
   ]
  }
 ],
 "metadata": {
  "kernelspec": {
   "display_name": "Python 3.10.6 ('datathon-fme2')",
   "language": "python",
   "name": "python3"
  },
  "language_info": {
   "codemirror_mode": {
    "name": "ipython",
    "version": 3
   },
   "file_extension": ".py",
   "mimetype": "text/x-python",
   "name": "python",
   "nbconvert_exporter": "python",
   "pygments_lexer": "ipython3",
   "version": "3.10.6"
  },
  "orig_nbformat": 4,
  "vscode": {
   "interpreter": {
    "hash": "b49a5fbd0ce221fd017fdeeeae24c039496cc14ed868004976e37e54572e139b"
   }
  }
 },
 "nbformat": 4,
 "nbformat_minor": 2
}
