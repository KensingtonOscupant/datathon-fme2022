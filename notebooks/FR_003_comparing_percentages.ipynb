{
 "cells": [
  {
   "cell_type": "code",
   "execution_count": 2,
   "metadata": {},
   "outputs": [],
   "source": [
    "# setup from LF 001\n",
    "\n",
    "import pandas as pd\n",
    "\n",
    "import matplotlib.pyplot as plt\n",
    "import seaborn as sns\n",
    "\n",
    "#sns.set_theme(context='paper', font_scale=1.15)\n",
    "\n",
    "data_dir = '../data/datathon_SC_ACN_22/'"
   ]
  },
  {
   "cell_type": "markdown",
   "metadata": {},
   "source": [
    "# Percentages of delayed orders for the different origin ports"
   ]
  },
  {
   "cell_type": "code",
   "execution_count": null,
   "metadata": {},
   "outputs": [],
   "source": [
    "# dataframe with all orders\n",
    "orders_data = pd.read_csv(data_dir + 'orders.csv', delimiter=';')\n",
    "\n",
    "# show all rows where 3pl is v_001\n",
    "orders_data[orders_data['origin_port'] == 'v_001'].head()\n",
    "\n",
    "# calculate percentage of orders for the different values of 3pl where late_order is True\n",
    "orders_data[orders_data['late_order'] == True].groupby('origin_port').size() / orders_data.groupby('3pl').size()\n",
    "# orders_data[orders_data['3pl'] == 'v_001'].late_order.value_counts(normalize=True)"
   ]
  }
 ],
 "metadata": {
  "kernelspec": {
   "display_name": "Python 3.10.6 ('datathon-fme2')",
   "language": "python",
   "name": "python3"
  },
  "language_info": {
   "codemirror_mode": {
    "name": "ipython",
    "version": 3
   },
   "file_extension": ".py",
   "mimetype": "text/x-python",
   "name": "python",
   "nbconvert_exporter": "python",
   "pygments_lexer": "ipython3",
   "version": "3.10.6"
  },
  "orig_nbformat": 4,
  "vscode": {
   "interpreter": {
    "hash": "b49a5fbd0ce221fd017fdeeeae24c039496cc14ed868004976e37e54572e139b"
   }
  }
 },
 "nbformat": 4,
 "nbformat_minor": 2
}
