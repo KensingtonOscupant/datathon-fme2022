{
 "cells": [
  {
   "cell_type": "code",
   "execution_count": 1,
   "metadata": {},
   "outputs": [
    {
     "name": "stderr",
     "output_type": "stream",
     "text": [
      "c:\\Users\\linus\\anaconda3\\envs\\datathon-fme2022\\lib\\site-packages\\xgboost\\compat.py:36: FutureWarning: pandas.Int64Index is deprecated and will be removed from pandas in a future version. Use pandas.Index with the appropriate dtype instead.\n",
      "  from pandas import MultiIndex, Int64Index\n"
     ]
    }
   ],
   "source": [
    "import os\n",
    "import pandas as pd\n",
    "import numpy as np\n",
    "from haversine import haversine, Unit\n",
    "import xgboost\n",
    "import pickle as pk\n",
    "from sklearn import preprocessing\n",
    "from sklearn import pipeline\n",
    "from sklearn import model_selection\n",
    "from sklearn import linear_model\n",
    "from sklearn import tree\n",
    "from sklearn import svm\n",
    "from sklearn import naive_bayes\n",
    "from sklearn import neighbors\n",
    "from sklearn import neural_network\n",
    "from sklearn import ensemble\n",
    "from sklearn import metrics\n",
    "\n",
    "from data import feature_engineering\n",
    "\n",
    "import matplotlib.pyplot as plt\n",
    "import seaborn as sns\n",
    "\n",
    "sns.set_theme(context='paper', font_scale=1.15)\n",
    "\n",
    "data_dir = '../data/datathon_SC_ACN_22/'"
   ]
  },
  {
   "cell_type": "markdown",
   "metadata": {},
   "source": [
    "### Data"
   ]
  },
  {
   "cell_type": "code",
   "execution_count": 2,
   "metadata": {},
   "outputs": [],
   "source": [
    "orders_data = pd.read_csv(data_dir + 'test.csv', delimiter=';', index_col='order_id')\n",
    "\n",
    "cities_data = pd.read_csv(data_dir + 'cities_data.csv', delimiter=';')\n",
    "product_data = pd.read_csv(data_dir + 'product_attributes.csv', delimiter=',', index_col='product_id')"
   ]
  },
  {
   "cell_type": "code",
   "execution_count": 3,
   "metadata": {},
   "outputs": [],
   "source": [
    "orders_features = feature_engineering.engineer_features(orders_data, cities_data, product_data)"
   ]
  },
  {
   "cell_type": "markdown",
   "metadata": {},
   "source": [
    "### Load model"
   ]
  },
  {
   "cell_type": "code",
   "execution_count": 4,
   "metadata": {},
   "outputs": [],
   "source": [
    "with open('../models/ensemble_classifier_v001.pkl', 'rb') as f:\n",
    "    model = pk.load(f)"
   ]
  },
  {
   "cell_type": "code",
   "execution_count": 10,
   "metadata": {},
   "outputs": [],
   "source": [
    "predictions = model.predict_proba(orders_features)\n",
    "predictions = [ probs[1] for probs in predictions ]"
   ]
  },
  {
   "cell_type": "code",
   "execution_count": 11,
   "metadata": {},
   "outputs": [
    {
     "data": {
      "text/html": [
       "<div>\n",
       "<style scoped>\n",
       "    .dataframe tbody tr th:only-of-type {\n",
       "        vertical-align: middle;\n",
       "    }\n",
       "\n",
       "    .dataframe tbody tr th {\n",
       "        vertical-align: top;\n",
       "    }\n",
       "\n",
       "    .dataframe thead th {\n",
       "        text-align: right;\n",
       "    }\n",
       "</style>\n",
       "<table border=\"1\" class=\"dataframe\">\n",
       "  <thead>\n",
       "    <tr style=\"text-align: right;\">\n",
       "      <th></th>\n",
       "      <th>order_id</th>\n",
       "      <th>origin_port</th>\n",
       "      <th>3pl</th>\n",
       "      <th>customs_procedures</th>\n",
       "      <th>logistic_hub</th>\n",
       "      <th>customer</th>\n",
       "      <th>units</th>\n",
       "      <th>late_order</th>\n",
       "    </tr>\n",
       "    <tr>\n",
       "      <th>product_id</th>\n",
       "      <th></th>\n",
       "      <th></th>\n",
       "      <th></th>\n",
       "      <th></th>\n",
       "      <th></th>\n",
       "      <th></th>\n",
       "      <th></th>\n",
       "      <th></th>\n",
       "    </tr>\n",
       "  </thead>\n",
       "  <tbody>\n",
       "    <tr>\n",
       "      <th>1651299</th>\n",
       "      <td>d922bb656961</td>\n",
       "      <td>Rotterdam</td>\n",
       "      <td>v_002</td>\n",
       "      <td>CRF</td>\n",
       "      <td>Lille</td>\n",
       "      <td>Prague</td>\n",
       "      <td>427</td>\n",
       "      <td>0.169229</td>\n",
       "    </tr>\n",
       "    <tr>\n",
       "      <th>1644062</th>\n",
       "      <td>68cdcbfa7ae3</td>\n",
       "      <td>Athens</td>\n",
       "      <td>v_002</td>\n",
       "      <td>DTD</td>\n",
       "      <td>Lille</td>\n",
       "      <td>Munich</td>\n",
       "      <td>492</td>\n",
       "      <td>0.311142</td>\n",
       "    </tr>\n",
       "    <tr>\n",
       "      <th>1683407</th>\n",
       "      <td>276eb0b8ec43</td>\n",
       "      <td>Athens</td>\n",
       "      <td>v_002</td>\n",
       "      <td>DTD</td>\n",
       "      <td>Venlo</td>\n",
       "      <td>Marseille</td>\n",
       "      <td>611</td>\n",
       "      <td>0.893256</td>\n",
       "    </tr>\n",
       "    <tr>\n",
       "      <th>1644308</th>\n",
       "      <td>386aba4c4d27</td>\n",
       "      <td>Rotterdam</td>\n",
       "      <td>v_002</td>\n",
       "      <td>CRF</td>\n",
       "      <td>Hamburg</td>\n",
       "      <td>Marseille</td>\n",
       "      <td>532</td>\n",
       "      <td>0.200078</td>\n",
       "    </tr>\n",
       "    <tr>\n",
       "      <th>1700738</th>\n",
       "      <td>4796a931c5a7</td>\n",
       "      <td>Rotterdam</td>\n",
       "      <td>v_004</td>\n",
       "      <td>DTD</td>\n",
       "      <td>Zaragoza</td>\n",
       "      <td>Madrid</td>\n",
       "      <td>560</td>\n",
       "      <td>0.403127</td>\n",
       "    </tr>\n",
       "    <tr>\n",
       "      <th>1687491</th>\n",
       "      <td>8a3327f4f643</td>\n",
       "      <td>Rotterdam</td>\n",
       "      <td>v_004</td>\n",
       "      <td>DTD</td>\n",
       "      <td>Hamburg</td>\n",
       "      <td>Milan</td>\n",
       "      <td>372</td>\n",
       "      <td>0.165656</td>\n",
       "    </tr>\n",
       "    <tr>\n",
       "      <th>1666519</th>\n",
       "      <td>1101a1688890</td>\n",
       "      <td>Athens</td>\n",
       "      <td>v_004</td>\n",
       "      <td>DTD</td>\n",
       "      <td>Venlo</td>\n",
       "      <td>Amsterdam</td>\n",
       "      <td>499</td>\n",
       "      <td>0.399231</td>\n",
       "    </tr>\n",
       "    <tr>\n",
       "      <th>1668606</th>\n",
       "      <td>997f13de1e26</td>\n",
       "      <td>Athens</td>\n",
       "      <td>v_004</td>\n",
       "      <td>DTD</td>\n",
       "      <td>Venlo</td>\n",
       "      <td>Copenhagen</td>\n",
       "      <td>498</td>\n",
       "      <td>0.456715</td>\n",
       "    </tr>\n",
       "    <tr>\n",
       "      <th>1680246</th>\n",
       "      <td>eea644eed81f</td>\n",
       "      <td>Rotterdam</td>\n",
       "      <td>v_004</td>\n",
       "      <td>DTD</td>\n",
       "      <td>Hamburg</td>\n",
       "      <td>Copenhagen</td>\n",
       "      <td>530</td>\n",
       "      <td>0.117572</td>\n",
       "    </tr>\n",
       "    <tr>\n",
       "      <th>1681687</th>\n",
       "      <td>75323dd155c8</td>\n",
       "      <td>Athens</td>\n",
       "      <td>v_001</td>\n",
       "      <td>CRF</td>\n",
       "      <td>Venlo</td>\n",
       "      <td>Berlin</td>\n",
       "      <td>492</td>\n",
       "      <td>0.520097</td>\n",
       "    </tr>\n",
       "  </tbody>\n",
       "</table>\n",
       "</div>"
      ],
      "text/plain": [
       "                order_id origin_port    3pl customs_procedures logistic_hub  \\\n",
       "product_id                                                                    \n",
       "1651299     d922bb656961   Rotterdam  v_002                CRF        Lille   \n",
       "1644062     68cdcbfa7ae3      Athens  v_002                DTD        Lille   \n",
       "1683407     276eb0b8ec43      Athens  v_002                DTD        Venlo   \n",
       "1644308     386aba4c4d27   Rotterdam  v_002                CRF      Hamburg   \n",
       "1700738     4796a931c5a7   Rotterdam  v_004                DTD     Zaragoza   \n",
       "1687491     8a3327f4f643   Rotterdam  v_004                DTD      Hamburg   \n",
       "1666519     1101a1688890      Athens  v_004                DTD        Venlo   \n",
       "1668606     997f13de1e26      Athens  v_004                DTD        Venlo   \n",
       "1680246     eea644eed81f   Rotterdam  v_004                DTD      Hamburg   \n",
       "1681687     75323dd155c8      Athens  v_001                CRF        Venlo   \n",
       "\n",
       "              customer  units  late_order  \n",
       "product_id                                 \n",
       "1651299         Prague    427    0.169229  \n",
       "1644062         Munich    492    0.311142  \n",
       "1683407      Marseille    611    0.893256  \n",
       "1644308      Marseille    532    0.200078  \n",
       "1700738         Madrid    560    0.403127  \n",
       "1687491          Milan    372    0.165656  \n",
       "1666519      Amsterdam    499    0.399231  \n",
       "1668606     Copenhagen    498    0.456715  \n",
       "1680246     Copenhagen    530    0.117572  \n",
       "1681687         Berlin    492    0.520097  "
      ]
     },
     "execution_count": 11,
     "metadata": {},
     "output_type": "execute_result"
    }
   ],
   "source": [
    "orders_data_predicted = orders_data.reset_index().join(pd.Series(predictions).rename('late_order')).set_index('product_id')\n",
    "\n",
    "orders_data_predicted.sample(n=10)"
   ]
  },
  {
   "cell_type": "code",
   "execution_count": 13,
   "metadata": {},
   "outputs": [],
   "source": [
    "orders_data_predicted[['order_id', 'late_order']].to_csv('../data/datathon_SC_ACN_22/test_predicted.csv', sep=',', index=False)"
   ]
  }
 ],
 "metadata": {
  "kernelspec": {
   "display_name": "Python 3.10.6 ('datathon-fme2022')",
   "language": "python",
   "name": "python3"
  },
  "language_info": {
   "codemirror_mode": {
    "name": "ipython",
    "version": 3
   },
   "file_extension": ".py",
   "mimetype": "text/x-python",
   "name": "python",
   "nbconvert_exporter": "python",
   "pygments_lexer": "ipython3",
   "version": "3.10.6"
  },
  "orig_nbformat": 4,
  "vscode": {
   "interpreter": {
    "hash": "0a5f1cad13e83ff8f38af6883a908047d62aca5621397592ff06c4814667afdd"
   }
  }
 },
 "nbformat": 4,
 "nbformat_minor": 2
}
