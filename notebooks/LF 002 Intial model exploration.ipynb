{
 "cells": [
  {
   "cell_type": "code",
   "execution_count": 1,
   "metadata": {},
   "outputs": [
    {
     "name": "stderr",
     "output_type": "stream",
     "text": [
      "c:\\Users\\linus\\anaconda3\\envs\\datathon-fme2022\\lib\\site-packages\\xgboost\\compat.py:36: FutureWarning: pandas.Int64Index is deprecated and will be removed from pandas in a future version. Use pandas.Index with the appropriate dtype instead.\n",
      "  from pandas import MultiIndex, Int64Index\n"
     ]
    }
   ],
   "source": [
    "import os\n",
    "import pandas as pd\n",
    "import numpy as np\n",
    "from haversine import haversine, Unit\n",
    "import xgboost\n",
    "import pickle as pk\n",
    "from sklearn import preprocessing\n",
    "from sklearn import pipeline\n",
    "from sklearn import model_selection\n",
    "from sklearn import linear_model\n",
    "from sklearn import tree\n",
    "from sklearn import svm\n",
    "from sklearn import naive_bayes\n",
    "from sklearn import neighbors\n",
    "from sklearn import neural_network\n",
    "from sklearn import ensemble\n",
    "from sklearn import metrics\n",
    "\n",
    "from data import feature_engineering\n",
    "\n",
    "import matplotlib.pyplot as plt\n",
    "import seaborn as sns\n",
    "\n",
    "sns.set_theme(context='paper', font_scale=1.15)\n",
    "\n",
    "data_dir = '../data/datathon_SC_ACN_22/'"
   ]
  },
  {
   "cell_type": "markdown",
   "metadata": {},
   "source": [
    "### Data overview"
   ]
  },
  {
   "cell_type": "code",
   "execution_count": 2,
   "metadata": {},
   "outputs": [],
   "source": [
    "orders_data = pd.read_csv(data_dir + 'orders.csv', delimiter=';', index_col='order_id')\n",
    "cities_data = pd.read_csv(data_dir + 'cities_data.csv', delimiter=';')\n",
    "product_data = pd.read_csv(data_dir + 'product_attributes.csv', delimiter=',', index_col='product_id')"
   ]
  },
  {
   "cell_type": "code",
   "execution_count": 3,
   "metadata": {},
   "outputs": [],
   "source": [
    "orders_features, orders_targets = feature_engineering.engineer_features(orders_data, cities_data, product_data, training_data=True)"
   ]
  },
  {
   "cell_type": "code",
   "execution_count": 4,
   "metadata": {},
   "outputs": [
    {
     "data": {
      "text/plain": [
       "Index(['units', 'start_lat', 'start_long', 'hub_lat', 'hub_long', 'end_lat',\n",
       "       'end_long', 'distance_on_water', 'distance_on_land',\n",
       "       'distance_on_land_log', 'distance_on_land_squared', 'units_log',\n",
       "       'units_squared', 'weight', 'weight_log', 'weight_squared',\n",
       "       'weight_deviation', 'missing_product_info', '3pl_v_001', '3pl_v_002',\n",
       "       '3pl_v_003', '3pl_v_004', 'customs_procedures_CRF',\n",
       "       'customs_procedures_DTD', 'customs_procedures_DTP',\n",
       "       'material_handling_c0.0', 'material_handling_c1.0',\n",
       "       'material_handling_c2.0', 'material_handling_c3.0',\n",
       "       'material_handling_c4.0', 'material_handling_c5.0',\n",
       "       'material_handling_cnan'],\n",
       "      dtype='object')"
      ]
     },
     "execution_count": 4,
     "metadata": {},
     "output_type": "execute_result"
    }
   ],
   "source": [
    "orders_features.columns"
   ]
  },
  {
   "cell_type": "markdown",
   "metadata": {},
   "source": [
    "##### Training - test split"
   ]
  },
  {
   "cell_type": "code",
   "execution_count": 5,
   "metadata": {},
   "outputs": [],
   "source": [
    "X_train, X_test, y_train, y_test = model_selection.train_test_split(orders_features, orders_targets, test_size=0.2, random_state=0)"
   ]
  },
  {
   "cell_type": "markdown",
   "metadata": {},
   "source": [
    "### Model"
   ]
  },
  {
   "cell_type": "code",
   "execution_count": 6,
   "metadata": {},
   "outputs": [],
   "source": [
    "model_ada = ensemble.AdaBoostClassifier(\n",
    "    n_estimators=100,\n",
    "    learning_rate=1.5\n",
    ")\n",
    "\n",
    "model_rf = ensemble.RandomForestClassifier(\n",
    "    max_depth=20\n",
    ")\n",
    "\n",
    "model_xgb = xgboost.XGBClassifier(\n",
    "    scale_pos_weight=0.4,\n",
    "    n_estimators=300,\n",
    "    max_depth=5,\n",
    "    learning_rate=0.15,\n",
    "    subsample=1.0,\n",
    "    colsample_bytree=0.8,\n",
    "    eval_metric='logloss',\n",
    "    use_label_encoder=False\n",
    ")\n",
    "\n",
    "model_nnb = neighbors.KNeighborsClassifier()\n",
    "\n",
    "model_nn = neural_network.MLPClassifier(\n",
    "    hidden_layer_sizes=(10,30,10),\n",
    "    learning_rate='adaptive',\n",
    "    max_iter=1000\n",
    ")"
   ]
  },
  {
   "cell_type": "code",
   "execution_count": 7,
   "metadata": {},
   "outputs": [
    {
     "data": {
      "text/plain": [
       "0.821184809240462"
      ]
     },
     "execution_count": 7,
     "metadata": {},
     "output_type": "execute_result"
    }
   ],
   "source": [
    "voting_classifier = ensemble.VotingClassifier(estimators=[\n",
    "    ('ada', model_ada),\n",
    "    ('rf', model_rf),\n",
    "    ('xgb', model_xgb),\n",
    "    ('nnb', model_nnb),\n",
    "    ('nn', model_nn)], voting='soft')\n",
    "\n",
    "pipe = pipeline.make_pipeline(preprocessing.StandardScaler(), voting_classifier)\n",
    "pipe.fit(X_train, y_train)\n",
    "\n",
    "pipe.score(X_test, y_test)"
   ]
  },
  {
   "cell_type": "code",
   "execution_count": 8,
   "metadata": {},
   "outputs": [
    {
     "data": {
      "text/plain": [
       "array([[0.66808931, 0.3319107 ],\n",
       "       [0.59558693, 0.40441307],\n",
       "       [0.64957887, 0.35042113],\n",
       "       ...,\n",
       "       [0.84766091, 0.15233909],\n",
       "       [0.80460728, 0.19539272],\n",
       "       [0.78253813, 0.21746187]])"
      ]
     },
     "execution_count": 8,
     "metadata": {},
     "output_type": "execute_result"
    }
   ],
   "source": [
    "pipe.predict_proba(X_test)"
   ]
  },
  {
   "cell_type": "code",
   "execution_count": 9,
   "metadata": {},
   "outputs": [
    {
     "data": {
      "text/plain": [
       "(17017, 1752, 3610, 477)"
      ]
     },
     "execution_count": 9,
     "metadata": {},
     "output_type": "execute_result"
    }
   ],
   "source": [
    "tn, fp, fn, tp = metrics.confusion_matrix(y_test, pipe.predict(X_test)).ravel()\n",
    "tn, tp, fn, fp"
   ]
  },
  {
   "cell_type": "markdown",
   "metadata": {},
   "source": [
    "#### Save model"
   ]
  },
  {
   "cell_type": "code",
   "execution_count": 10,
   "metadata": {},
   "outputs": [],
   "source": [
    "if not os.path.exists('models'):\n",
    "    os.mkdir('models')\n",
    "\n",
    "with open('../models/ensemble_classifier_v001.pkl', 'wb') as f:\n",
    "    pk.dump(pipe, f)"
   ]
  }
 ],
 "metadata": {
  "kernelspec": {
   "display_name": "Python 3.10.6 ('datathon-fme2022')",
   "language": "python",
   "name": "python3"
  },
  "language_info": {
   "codemirror_mode": {
    "name": "ipython",
    "version": 3
   },
   "file_extension": ".py",
   "mimetype": "text/x-python",
   "name": "python",
   "nbconvert_exporter": "python",
   "pygments_lexer": "ipython3",
   "version": "3.10.6"
  },
  "orig_nbformat": 4,
  "vscode": {
   "interpreter": {
    "hash": "0a5f1cad13e83ff8f38af6883a908047d62aca5621397592ff06c4814667afdd"
   }
  }
 },
 "nbformat": 4,
 "nbformat_minor": 2
}
